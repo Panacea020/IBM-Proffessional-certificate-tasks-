{
 "cells": [
  {
   "cell_type": "markdown",
   "id": "52908d34",
   "metadata": {},
   "source": [
    "# How to upload a folder to jupyter notebook"
   ]
  },
  {
   "cell_type": "code",
   "execution_count": null,
   "id": "83ee73cf",
   "metadata": {},
   "outputs": [],
   "source": [
    "import zipfile as zf\n",
    "files = zf.ZipFile(\"ZippedFolder.zip\", 'r')\n",
    "#at the place of zipper folder write your folder name a(a .zip file)\n",
    "files.extractall('directory to extract')\n",
    "#at the place of directory to extract write a folder name in which you want to store the above folder\n",
    "# go the home window and upload your .zip file and run. the file is uploaded\n",
    "#if it shows that its not found go to the folder and move it to desktop and rerun\n",
    "files.close()"
   ]
  },
  {
   "cell_type": "code",
   "execution_count": null,
   "id": "0bd6cf56",
   "metadata": {},
   "outputs": [],
   "source": []
  }
 ],
 "metadata": {
  "kernelspec": {
   "display_name": "Python 3 (ipykernel)",
   "language": "python",
   "name": "python3"
  },
  "language_info": {
   "codemirror_mode": {
    "name": "ipython",
    "version": 3
   },
   "file_extension": ".py",
   "mimetype": "text/x-python",
   "name": "python",
   "nbconvert_exporter": "python",
   "pygments_lexer": "ipython3",
   "version": "3.9.7"
  }
 },
 "nbformat": 4,
 "nbformat_minor": 5
}
